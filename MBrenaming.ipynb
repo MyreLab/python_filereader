{
 "cells": [
  {
   "cell_type": "markdown",
   "id": "81db0af3",
   "metadata": {},
   "source": [
    "### This code uses PyPDF2 to read unique identifiers directly from mortality data PDF files and uses the OS library to rename the files in-place with each corresponding identifier"
   ]
  },
  {
   "cell_type": "code",
   "execution_count": null,
   "id": "241c9565",
   "metadata": {},
   "outputs": [],
   "source": [
    "# importing pandas (to create dataframes)\n",
    "# importing OS (enables modification of filenames)\n",
    "# importing PDFreader from PyPDF2 library (to read PDFs)\n",
    "import pandas as pd\n",
    "import os\n",
    "from PyPDF2 import PdfReader\n"
   ]
  },
  {
   "cell_type": "code",
   "execution_count": null,
   "id": "8ae71e84",
   "metadata": {},
   "outputs": [],
   "source": [
    "# get user id - this links to the {uid} filepath below so that any user in the DOHMH server can run this code\n",
    "uid = !id -u\n",
    "uid = uid[0]\n",
    "uid"
   ]
  },
  {
   "cell_type": "code",
   "execution_count": null,
   "id": "c71374bf",
   "metadata": {
    "scrolled": true
   },
   "outputs": [],
   "source": [
    "# Creating a list of the split mortality case files saved in the \"abstraction_folder\"\n",
    "##  --> update link below with the folder filepath\n",
    "abstractions_folder = f'/user/{uid}/file_path' #needs to be updated with the filepath\n",
    "df_file_list = pd.DataFrame(os.listdir(f'{abstractions_folder}'))"
   ]
  },
  {
   "cell_type": "code",
   "execution_count": null,
   "id": "6c8ee165",
   "metadata": {},
   "outputs": [],
   "source": [
    "# Renaming column \n",
    "df_file_list = df_file_list.rename(columns = {0 : 'file_names'})"
   ]
  },
  {
   "cell_type": "code",
   "execution_count": null,
   "id": "dcc89474",
   "metadata": {},
   "outputs": [],
   "source": [
    "# Creating a columns called \"split\" that contains the source filenames split into individual components \n",
    "# using _ as the delimiter\n",
    "df_file_list['split'] = df_file_list.file_names.str.split('_')"
   ]
  },
  {
   "cell_type": "code",
   "execution_count": null,
   "id": "fdb36ead",
   "metadata": {},
   "outputs": [],
   "source": [
    "# Creating a column with the year of the mortality case\n",
    "df_file_list['year'] = df_file_list.split.str[2]"
   ]
  },
  {
   "cell_type": "code",
   "execution_count": null,
   "id": "13708c56",
   "metadata": {},
   "outputs": [],
   "source": [
    "# Creating a column with the current month and year in which cases are being processed (e.g., May2022)\n",
    "df_file_list['monyr_concat'] = df_file_list.split.str[-2]"
   ]
  },
  {
   "cell_type": "code",
   "execution_count": null,
   "id": "97b13394",
   "metadata": {},
   "outputs": [],
   "source": [
    "# Reading all PDF files in the abstraction folder\n",
    "# For every PDF file, reading the first 100 characters on the first page and storing characters in a space-delimited list (ME_list_start)\n",
    "\n",
    "ME_list_start = []\n",
    "ME_list_end = []\n",
    "search = 'ME#'\n",
    "for item in df_file_list.file_names:\n",
    "    reader = PdfReader(f'{abstractions_folder}/{item}')\n",
    "    page = reader.pages[0]\n",
    "    ME_list_start.append(str.split(page.extract_text()[0:100],\" \"))\n",
    "\n",
    "# Looking for ME numbers in the list     \n",
    "for i in ME_list_start:\n",
    "    for sub_i in i:\n",
    "        if sub_i.find(search) != -1:\n",
    "            ME_list_end.append(sub_i[3:])\n",
    "    "
   ]
  },
  {
   "cell_type": "code",
   "execution_count": null,
   "id": "67f1aa08",
   "metadata": {},
   "outputs": [],
   "source": [
    "# Creating a column with unique identifier number read from the pdf\n",
    "df_file_list['ME_number'] = ME_list_end"
   ]
  },
  {
   "cell_type": "code",
   "execution_count": null,
   "id": "dfb62721",
   "metadata": {},
   "outputs": [],
   "source": [
    "# Creating a new column with the target filename for every abstraction, which is in the format:\n",
    "# ME#_YEAR_MONTHYEAR\n",
    "df_file_list['target_filename'] = (df_file_list.ME_number +\n",
    "                               '_' +\n",
    "                               df_file_list.year + \n",
    "                               '_' +\n",
    "                               df_file_list.monyr_concat +\n",
    "                               '.pdf'   \n",
    "                                  )"
   ]
  },
  {
   "cell_type": "code",
   "execution_count": null,
   "id": "ad14139f",
   "metadata": {},
   "outputs": [],
   "source": [
    "# This for loop modifies the names of the original abstraction files using the TARGET file names that we stored\n",
    "# df_filelist dataframe, note that it does this without rewriting the contents of the files\n",
    "\n",
    "for count, filename in enumerate(df_file_list['file_names']):\n",
    "    dst = df_file_list['target_filename'][count] # this takes the count of the file (e.g., its order) and uses that to pull out the right file name from df_filelist\n",
    "    src =f\"{abstractions_folder}/{filename}\"  # this indicates the source file to be modified, i.e. the original abstractions\n",
    "    dst =f\"{abstractions_folder}/{dst}\" # this sets up the new file name based on 'target_filename' in df_filelist and also ensures that it goes to the right folder\n",
    "    os.rename(src, dst) # this finally does the replacement of the file names"
   ]
  },
  {
   "cell_type": "code",
   "execution_count": null,
   "id": "886a513d",
   "metadata": {},
   "outputs": [],
   "source": []
  }
 ],
 "metadata": {
  "kernelspec": {
   "display_name": "Python 3 (ipykernel)",
   "language": "python",
   "name": "python3"
  },
  "language_info": {
   "codemirror_mode": {
    "name": "ipython",
    "version": 3
   },
   "file_extension": ".py",
   "mimetype": "text/x-python",
   "name": "python",
   "nbconvert_exporter": "python",
   "pygments_lexer": "ipython3",
   "version": "3.9.12"
  }
 },
 "nbformat": 4,
 "nbformat_minor": 5
}
